{
 "cells": [
  {
   "cell_type": "code",
   "execution_count": 1,
   "id": "87a69d97",
   "metadata": {},
   "outputs": [],
   "source": [
    "import pandas as pd\n",
    "import numpy as np\n",
    "import matplotlib.pyplot as plt\n",
    "from sklearn.model_selection import GridSearchCV\n",
    "from sklearn.model_selection import cross_val_score"
   ]
  },
  {
   "cell_type": "code",
   "execution_count": null,
   "id": "652b286a",
   "metadata": {},
   "outputs": [],
   "source": [
    "data = pd.read_csv(r'data72.csv',header=None)\n",
    "X = data.iloc[:,0:-1]\n",
    "y = data.iloc[:,-1]"
   ]
  },
  {
   "cell_type": "code",
   "execution_count": null,
   "id": "cd2f434a",
   "metadata": {},
   "outputs": [],
   "source": [
    "# from imblearn.under_sampling import NearMiss\n",
    "# nm = NearMiss(version=2)\n",
    "# X_res, y_res = nm.fit_sample(X, y)\n",
    "\n",
    "# from imblearn.under_sampling import ClusterCentroids\n",
    "# cc = ClusterCentroids()\n",
    "# X_res, y_res = cc.fit_resample(X, y)\n",
    "\n",
    "# from imblearn.under_sampling import CondensedNearestNeighbour\n",
    "# cnn = CondensedNearestNeighbour() # doctest: +SKIP\n",
    "# X_res, y_res = cnn.fit_resample(X, y)\n",
    "\n",
    "# from imblearn.under_sampling import EditedNearestNeighbours \n",
    "# enn = EditedNearestNeighbours()\n",
    "# X_res, y_res = enn.fit_resample(X, y)\n",
    "\n",
    "# from imblearn.under_sampling import RepeatedEditedNearestNeighbours\n",
    "# renn = RepeatedEditedNearestNeighbours()\n",
    "# X_res, y_res = renn.fit_resample(X, y)\n",
    "\n",
    "# from imblearn.under_sampling import AllKNN\n",
    "# allknn = AllKNN()\n",
    "# X_res, y_res = allknn.fit_resample(X, y)\n",
    "\n",
    "# from imblearn.under_sampling import InstanceHardnessThreshold\n",
    "# iht = InstanceHardnessThreshold()\n",
    "# X_res, y_res = iht.fit_resample(X, y)\n",
    "\n",
    "from imblearn.under_sampling import RandomUnderSampler\n",
    "rus = RandomUnderSampler(random_state=42)\n",
    "X_res, y_res = rus.fit_resample(X, y)\n",
    "\n",
    "# from imblearn.under_sampling import OneSidedSelection\n",
    "# oss = OneSidedSelection(random_state=42)\n",
    "# X_res, y_res = oss.fit_resample(X, y)\n",
    "\n",
    "# from imblearn.under_sampling import TomekLinks\n",
    "# tl = TomekLinks()\n",
    "# X_res, y_res = tl.fit_resample(X, y)"
   ]
  },
  {
   "cell_type": "code",
   "execution_count": null,
   "id": "f6735732",
   "metadata": {},
   "outputs": [],
   "source": [
    "from sklearn.utils import shuffle\n",
    "x,  y = shuffle(X, y, random_state=0)\n",
    "\n",
    "x = pd.DataFrame(X_res)\n",
    "y = pd.DataFrame(y_res)\n",
    "\n",
    "y.value_counts()"
   ]
  },
  {
   "cell_type": "code",
   "execution_count": null,
   "id": "20d3595a",
   "metadata": {},
   "outputs": [],
   "source": [
    "y = y.values.ravel() "
   ]
  },
  {
   "cell_type": "code",
   "execution_count": null,
   "id": "bec1db83",
   "metadata": {},
   "outputs": [],
   "source": [
    "# from sklearn.svm import SVC\n",
    "# from sklearn.naive_bayes import GaussianNB\n",
    "# from sklearn.tree import DecisionTreeClassifier\n",
    "# from sklearn.linear_model import LogisticRegression\n",
    "from sklearn.ensemble import RandomForestClassifier\n",
    "\n",
    "# clf = SVC(kernel = \"rbf\",gamma = \"auto\")\n",
    "# clf = GaussianNB()\n",
    "# clf = DecisionTreeClassifier(random_state=25)\n",
    "# clf = LogisticRegression(random_state=25)\n",
    "clf = RandomForestClassifier(n_estimators=300)\n",
    "\n",
    "scores_accuracy = cross_val_score(clf, x, y,scoring='accuracy',cv=10).mean()\n",
    "scores_recall = cross_val_score(clf, x, y,scoring='recall',cv=10).mean()\n",
    "scores_precision = cross_val_score(clf, x, y,scoring='precision',cv=10).mean()\n",
    "scores_f1 = cross_val_score(clf, x, y,scoring='f1',cv=10).mean()\n",
    "\n",
    "matrix = confusion_matrix(y_test, y_pred)\n",
    "print(matrix)\n",
    "print(\"accuracy: %.3f\"% (scores_accuracy)) \n",
    "print(\"recall: %.3f\"% (scores_recall))\n",
    "print(\"precision: %.3f\"% (scores_precision))\n",
    "print(\"f1: %.3f\"% (scores_f1))"
   ]
  }
 ],
 "metadata": {
  "kernelspec": {
   "display_name": "Python 3",
   "language": "python",
   "name": "python3"
  },
  "language_info": {
   "codemirror_mode": {
    "name": "ipython",
    "version": 3
   },
   "file_extension": ".py",
   "mimetype": "text/x-python",
   "name": "python",
   "nbconvert_exporter": "python",
   "pygments_lexer": "ipython3",
   "version": "3.7.4"
  }
 },
 "nbformat": 4,
 "nbformat_minor": 5
}
